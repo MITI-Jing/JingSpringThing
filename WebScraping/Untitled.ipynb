{
 "cells": [
  {
   "cell_type": "code",
   "execution_count": 1,
   "id": "d0fcb356",
   "metadata": {},
   "outputs": [
    {
     "name": "stdout",
     "output_type": "stream",
     "text": [
      "URLs have been extracted and saved to C:\\Users\\lolic\\OneDrive\\Desktop\\work stuff\\MediaCity Immersive Innovation Hub(Dreamlab)\\WebScraping\\Sonnet3.5\\extracted_urls.csv\n",
      "Total number of URLs extracted: 3626\n"
     ]
    }
   ],
   "source": [
    "import os\n",
    "import re\n",
    "import csv\n",
    "\n",
    "def extract_urls(file_path):\n",
    "    with open(file_path, 'r', encoding='utf-8') as file:\n",
    "        content = file.read()\n",
    "        # Regular expression to match URLs\n",
    "        url_pattern = re.compile(r'http[s]?://(?:[a-zA-Z]|[0-9]|[$-_@.&+]|[!*\\\\(\\\\),]|(?:%[0-9a-fA-F][0-9a-fA-F]))+')\n",
    "        urls = re.findall(url_pattern, content)\n",
    "        return urls\n",
    "\n",
    "def process_markdown_files(directory):\n",
    "    all_urls = []\n",
    "    for filename in os.listdir(directory):\n",
    "        if filename.endswith('.md'):\n",
    "            file_path = os.path.join(directory, filename)\n",
    "            urls = extract_urls(file_path)\n",
    "            for url in urls:\n",
    "                all_urls.append((filename, url))\n",
    "    return all_urls\n",
    "\n",
    "def save_to_csv(urls, output_file):\n",
    "    with open(output_file, 'w', newline='', encoding='utf-8') as csvfile:\n",
    "        writer = csv.writer(csvfile)\n",
    "        writer.writerow(['Filename', 'URL'])\n",
    "        writer.writerows(urls)\n",
    "\n",
    "# Directory containing your Markdown files\n",
    "markdown_directory = r'C:\\Users\\lolic\\githubs\\JingSpringThing\\spatialKnowledgeGraphJOH\\blenderScript'\n",
    "\n",
    "# Directory to save the output CSV file\n",
    "output_directory = r'C:\\Users\\lolic\\OneDrive\\Desktop\\work stuff\\MediaCity Immersive Innovation Hub(Dreamlab)\\WebScraping\\Sonnet3.5'\n",
    "\n",
    "# Output CSV file in the specified directory\n",
    "output_csv = os.path.join(output_directory, 'extracted_urls.csv')\n",
    "\n",
    "# Process the Markdown files and extract URLs\n",
    "extracted_urls = process_markdown_files(markdown_directory)\n",
    "\n",
    "# Save the extracted URLs to a CSV file\n",
    "save_to_csv(extracted_urls, output_csv)\n",
    "\n",
    "# Count the total number of URLs\n",
    "total_urls = len(extracted_urls)\n",
    "\n",
    "print(f\"URLs have been extracted and saved to {output_csv}\")\n",
    "print(f\"Total number of URLs extracted: {total_urls}\")"
   ]
  },
  {
   "cell_type": "code",
   "execution_count": null,
   "id": "e4288a1a",
   "metadata": {},
   "outputs": [],
   "source": []
  }
 ],
 "metadata": {
  "kernelspec": {
   "display_name": "Python 3 (ipykernel)",
   "language": "python",
   "name": "python3"
  },
  "language_info": {
   "codemirror_mode": {
    "name": "ipython",
    "version": 3
   },
   "file_extension": ".py",
   "mimetype": "text/x-python",
   "name": "python",
   "nbconvert_exporter": "python",
   "pygments_lexer": "ipython3",
   "version": "3.11.5"
  }
 },
 "nbformat": 4,
 "nbformat_minor": 5
}
